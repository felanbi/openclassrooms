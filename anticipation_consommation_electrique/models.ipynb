{
 "cells": [
  {
   "cell_type": "code",
   "execution_count": 1,
   "metadata": {
    "scrolled": true
   },
   "outputs": [],
   "source": [
    "import pandas as pd\n",
    "import numpy as np\n",
    "import matplotlib.pyplot as plt\n",
    "import seaborn as sns\n",
    "\n",
    "pd.set_option('display.float_format', lambda x: '%.3f' % x)"
   ]
  },
  {
   "cell_type": "code",
   "execution_count": 2,
   "metadata": {},
   "outputs": [
    {
     "data": {
      "text/plain": [
       "(6700, 106)"
      ]
     },
     "execution_count": 2,
     "metadata": {},
     "output_type": "execute_result"
    }
   ],
   "source": [
    "data=pd.read_csv('2015-2016-building-energy-benchmarking.csv',index_col=0)\n",
    "data.shape"
   ]
  },
  {
   "cell_type": "code",
   "execution_count": 19,
   "metadata": {},
   "outputs": [
    {
     "data": {
      "text/plain": [
       "ENERGYSTARScore               1610\n",
       "log of TotalGHGEmissions        11\n",
       "TotalGHGEmissions               11\n",
       "log of SiteEnergyUse(kBtu)      10\n",
       "SiteEnergyUse(kBtu)             10\n",
       "dtype: int64"
      ]
     },
     "execution_count": 19,
     "metadata": {},
     "output_type": "execute_result"
    }
   ],
   "source": [
    "data.loc[:, data.isnull().any()].isna().sum().sort_values(ascending=False)"
   ]
  },
  {
   "cell_type": "code",
   "execution_count": 4,
   "metadata": {
    "scrolled": true
   },
   "outputs": [
    {
     "name": "stdout",
     "output_type": "stream",
     "text": [
      "Index(['LargestPropertyUseTypeGFA', 'CouncilDistrictCode', 'YearBuilt',\n",
      "       'NumberofFloors', 'DataYear', 'NumberofBuildings', 'ENERGYSTARScore',\n",
      "       'SiteEnergyUse(kBtu)', 'PropertyGFATotal', 'TotalGHGEmissions',\n",
      "       ...\n",
      "       'Neighborhood_LAKE UNION', 'Neighborhood_MAGNOLIA / QUEEN ANNE',\n",
      "       'Neighborhood_NORTH', 'Neighborhood_NORTHEAST',\n",
      "       'Neighborhood_NORTHWEST', 'Neighborhood_SOUTHEAST',\n",
      "       'Neighborhood_SOUTHWEST', 'ComplianceStatus_Compliant',\n",
      "       'ComplianceStatus_Not Compliant', 'ComplianceStatus_Unknown'],\n",
      "      dtype='object', length=106)\n"
     ]
    }
   ],
   "source": [
    "print(data.columns)"
   ]
  },
  {
   "cell_type": "code",
   "execution_count": 5,
   "metadata": {
    "scrolled": true
   },
   "outputs": [
    {
     "data": {
      "text/plain": [
       "LargestPropertyUseTypeGFA         float64\n",
       "CouncilDistrictCode                 int64\n",
       "YearBuilt                           int64\n",
       "NumberofFloors                      int64\n",
       "DataYear                            int64\n",
       "                                   ...   \n",
       "Neighborhood_SOUTHEAST              int64\n",
       "Neighborhood_SOUTHWEST              int64\n",
       "ComplianceStatus_Compliant          int64\n",
       "ComplianceStatus_Not Compliant      int64\n",
       "ComplianceStatus_Unknown            int64\n",
       "Length: 106, dtype: object"
      ]
     },
     "execution_count": 5,
     "metadata": {},
     "output_type": "execute_result"
    }
   ],
   "source": [
    "data.dtypes"
   ]
  },
  {
   "cell_type": "code",
   "execution_count": 21,
   "metadata": {
    "scrolled": true
   },
   "outputs": [],
   "source": [
    "#création des variables à expliquer\n",
    "co2='TotalGHGEmissions'\n",
    "energy='SiteEnergyUse(kBtu)'\n",
    "\n",
    "cibles=[co2,energy]\n",
    "log_cibles=['log of '+co2,'log of '+energy]"
   ]
  },
  {
   "cell_type": "markdown",
   "metadata": {},
   "source": [
    "# Partie 1 : Evaluation sans ENERGYSTARScore"
   ]
  },
  {
   "cell_type": "code",
   "execution_count": 28,
   "metadata": {
    "scrolled": true
   },
   "outputs": [],
   "source": [
    "from sklearn.preprocessing import StandardScaler\n",
    "from sklearn.model_selection import GridSearchCV, train_test_split\n",
    "from sklearn.metrics import  mean_squared_error\n",
    "\n",
    "import time\n",
    "import datetime"
   ]
  },
  {
   "cell_type": "code",
   "execution_count": 74,
   "metadata": {
    "scrolled": true
   },
   "outputs": [
    {
     "data": {
      "text/plain": [
       "(6689, 103)"
      ]
     },
     "execution_count": 74,
     "metadata": {},
     "output_type": "execute_result"
    }
   ],
   "source": [
    "data_without_ESS=data.drop(columns=['ENERGYSTARScore']+cibles)\n",
    "\n",
    "data_without_ESS_nan_co2=data_ESS[data_ESS['log of TotalGHGEmissions'].isna()]\n",
    "data_without_ESS_nan_energy=data_ESS[data_ESS['log of SiteEnergyUse(kBtu)'].isna()]\n",
    "\n",
    "data_without_ESS_nan_co2.drop(columns=log_cibles,inplace=True)\n",
    "data_without_ESS_nan_energy.drop(columns=log_cibles,inplace=True)\n",
    "\n",
    "data_without_ESS.dropna(inplace=True)\n",
    "data_without_ESS.shape"
   ]
  },
  {
   "cell_type": "code",
   "execution_count": 9,
   "metadata": {},
   "outputs": [],
   "source": [
    "X=data_without_ESS.drop(columns=log_cibles)\n",
    "Y=data_without_ESS[log_cibles]\n",
    "\n",
    "X_train, X_test, Y_train, Y_test = train_test_split(X,\n",
    "                                                    Y,\n",
    "                                                    test_size=0.2,\n",
    "                                                    random_state=42)"
   ]
  },
  {
   "cell_type": "code",
   "execution_count": 10,
   "metadata": {
    "scrolled": true
   },
   "outputs": [
    {
     "name": "stdout",
     "output_type": "stream",
     "text": [
      "log of TotalGHGEmissions dummy mse:  2.0054831309397483\n",
      "log of SiteEnergyUse(kBtu) dummy mse:  1.8914459829309422\n"
     ]
    }
   ],
   "source": [
    "from sklearn.dummy import DummyRegressor\n",
    "\n",
    "dummy_scores=[]\n",
    "\n",
    "for cible in log_cibles:\n",
    "    dummy = DummyRegressor(strategy = 'mean').fit(X_train, Y_train[[cible]])\n",
    "    dummy_scores.append(mean_squared_error(dummy.predict(X_test), Y_test[[cible]]))\n",
    "    print(cible+' dummy mse: ',mean_squared_error(dummy.predict(X_test), Y_test[[cible]]))"
   ]
  },
  {
   "cell_type": "code",
   "execution_count": 11,
   "metadata": {
    "scrolled": true
   },
   "outputs": [
    {
     "name": "stdout",
     "output_type": "stream",
     "text": [
      "variable: log of TotalGHGEmissions \n",
      "\n",
      "LinearRegression:\n",
      "mse score: 0.46203253393513133\n",
      "\n",
      "\n",
      "RandomForestRegressor:\n",
      "mse score: 0.2367179407675131\n",
      "\n",
      "\n",
      "XGBRegressor:\n",
      "mse score: 0.26519343934445233\n",
      "\n",
      "\n",
      "\n",
      "\n",
      "variable: log of SiteEnergyUse(kBtu) \n",
      "\n",
      "LinearRegression:\n",
      "mse score: 0.4998713216865392\n",
      "\n",
      "\n",
      "RandomForestRegressor:\n",
      "mse score: 0.38970848773878586\n",
      "\n",
      "\n",
      "XGBRegressor:\n",
      "mse score: 0.38337492668671036\n",
      "\n",
      "\n",
      "\n",
      "\n"
     ]
    },
    {
     "data": {
      "text/plain": [
       "[RandomForestRegressor(min_samples_leaf=5),\n",
       " XGBRegressor(n_estimators=200, objective='reg:squarederror')]"
      ]
     },
     "execution_count": 11,
     "metadata": {},
     "output_type": "execute_result"
    }
   ],
   "source": [
    "from sklearn.linear_model import LinearRegression\n",
    "from sklearn.ensemble import RandomForestRegressor\n",
    "from sklearn.neighbors import KNeighborsRegressor\n",
    "from xgboost import XGBRegressor\n",
    "\n",
    "models=[\n",
    "    LinearRegression(),\n",
    "    RandomForestRegressor(),\n",
    "    XGBRegressor(objective ='reg:squarederror')\n",
    "]\n",
    "\n",
    "model_names=[model.__class__.__name__ for model in models]\n",
    "\n",
    "all_params=[\n",
    "    {\n",
    "        \n",
    "    },\n",
    "    {\n",
    "             'n_estimators' : [10,20,50,100],\n",
    "             'min_samples_leaf' : [5,10,20], \n",
    "             'max_features': ['auto','sqrt','log2']\n",
    "    },\n",
    "    {\n",
    "             'n_estimators' : [100,200,500]\n",
    "    }\n",
    "]\n",
    "\n",
    "i=0\n",
    "fitted_models_and_mse=[]\n",
    "\n",
    "times=[]\n",
    "MSE=[]\n",
    "\n",
    "for cible in log_cibles:\n",
    "    print('variable:',cible,'\\n')\n",
    "    fitted_models_and_mse.append([])\n",
    "    \n",
    "    for model, params in zip(models, all_params):\n",
    "        if (model.__class__.__name__=='LinearRegression'):\n",
    "            model.fit(X_train,Y_train[[cible]])\n",
    "            \n",
    "            # temps d'inférence (prédiction)\n",
    "            start_time = time.time()\n",
    "            mse=mean_squared_error(model.predict(X_test),Y_test[[cible]])/dummy_scores[i]\n",
    "            elapsed=time.time()-start_time\n",
    "            elapsed/=len(Y_train[[cible]])\n",
    "            \n",
    "            MSE.append(mse)\n",
    "            \n",
    "            print(model.__class__.__name__+':')\n",
    "            print('mse score:',mse)\n",
    "            print('\\n')\n",
    "            \n",
    "            times.append(elapsed)\n",
    "            fitted_models_and_mse[i].append((model,mse))\n",
    "        else:\n",
    "            grid = GridSearchCV(model,\n",
    "                                param_grid = params,\n",
    "                                verbose=0,\n",
    "                                cv=20)\n",
    "            grid.fit(X_train, Y_train[[cible]].values.ravel())\n",
    "            \n",
    "            # temps d'inférence (prédiction)\n",
    "            start_time = time.time()\n",
    "            mse=mean_squared_error(grid.best_estimator_.predict(X_test),Y_test[[cible]])/dummy_scores[i]\n",
    "            elapsed=time.time()-start_time\n",
    "            elapsed/=len(Y_train[[cible]])\n",
    "            \n",
    "            MSE.append(mse)\n",
    "                \n",
    "            print(model.__class__.__name__+':')\n",
    "            print('mse score:',mse)\n",
    "            print('\\n')\n",
    "            \n",
    "            times.append(elapsed)\n",
    "            fitted_models_and_mse[i].append((grid.best_estimator_,mse))\n",
    "    print('\\n')\n",
    "    i+=1\n",
    "    \n",
    "best_models=[]\n",
    "for fitted in fitted_models_and_mse:\n",
    "    best_models.append(min(fitted, key = lambda t: t[1])[0])\n",
    "    \n",
    "best_models"
   ]
  },
  {
   "cell_type": "code",
   "execution_count": 12,
   "metadata": {},
   "outputs": [
    {
     "data": {
      "image/png": "[encoded data removed]",
      "text/plain": [
       "<Figure size 1440x720 with 1 Axes>"
      ]
     },
     "metadata": {
      "needs_background": "light"
     },
     "output_type": "display_data"
    },
    {
     "data": {
      "image/png": "[encoded data removed]",
      "text/plain": [
       "<Figure size 1440x720 with 1 Axes>"
      ]
     },
     "metadata": {
      "needs_background": "light"
     },
     "output_type": "display_data"
    }
   ],
   "source": [
    "i=0\n",
    "for cible in log_cibles:\n",
    "    plt.figure(figsize=(20,10))\n",
    "    plt.title('Temps d\\'inférence (en secondes) pour chaque modèle \\n pour la variable '+cible)\n",
    "    plt.xticks(rotation=90)\n",
    "    abscisse=[x for _, x in sorted(zip(times[i:i+len(models)], model_names))]\n",
    "    ordonnee=sorted(times[i:i+len(models)])\n",
    "    sns.barplot(x=abscisse, y=ordonnee)\n",
    "    i+=len(models)"
   ]
  },
  {
   "cell_type": "code",
   "execution_count": 13,
   "metadata": {},
   "outputs": [
    {
     "data": {
      "image/png": "[encoded data removed]",
      "text/plain": [
       "<Figure size 1440x720 with 1 Axes>"
      ]
     },
     "metadata": {
      "needs_background": "light"
     },
     "output_type": "display_data"
    },
    {
     "data": {
      "image/png": "[encoded data removed]",
      "text/plain": [
       "<Figure size 1440x720 with 1 Axes>"
      ]
     },
     "metadata": {
      "needs_background": "light"
     },
     "output_type": "display_data"
    }
   ],
   "source": [
    "i=0\n",
    "for cible in log_cibles:\n",
    "    plt.figure(figsize=(20,10))\n",
    "    plt.title('Score MSE pour chaque modèle \\n pour la variable '+cible)\n",
    "    plt.xticks(rotation=90)\n",
    "    abscisse=[x for _, x in sorted(zip(MSE[i:i+len(models)], model_names))]\n",
    "    ordonnee=sorted(MSE[i:i+len(models)])\n",
    "    sns.barplot(x=abscisse, y=ordonnee)\n",
    "    i+=len(models)"
   ]
  },
  {
   "cell_type": "code",
   "execution_count": 14,
   "metadata": {},
   "outputs": [
    {
     "name": "stdout",
     "output_type": "stream",
     "text": [
      "Test des modèles finaux: \n",
      "\n",
      "variable: log of TotalGHGEmissions \n",
      "\n",
      "modèle: RandomForestRegressor\n",
      "mse: 0.2367179407675131 \n",
      "\n",
      "variable: log of SiteEnergyUse(kBtu) \n",
      "\n",
      "modèle: XGBRegressor\n",
      "mse: 0.38337492668671036 \n",
      "\n"
     ]
    }
   ],
   "source": [
    "i=0\n",
    "print('Test des modèles finaux:','\\n')\n",
    "for cible in log_cibles:\n",
    "    print('variable: '+cible,'\\n')\n",
    "    mse=mean_squared_error(best_models[i].predict(X_test),Y_test[[cible]])/dummy_scores[i]\n",
    "    print('modèle: '+best_models[i].__class__.__name__)\n",
    "    print('mse:',mse,'\\n')\n",
    "    i+=1"
   ]
  },
  {
   "cell_type": "markdown",
   "metadata": {},
   "source": [
    "# Evaluation avec ENERGYSTARScore"
   ]
  },
  {
   "cell_type": "code",
   "execution_count": 25,
   "metadata": {},
   "outputs": [
    {
     "data": {
      "text/plain": [
       "(6700, 104)"
      ]
     },
     "execution_count": 25,
     "metadata": {},
     "output_type": "execute_result"
    }
   ],
   "source": [
    "data_ESS=data.drop(columns=[co2,energy])\n",
    "data_ESS.shape"
   ]
  },
  {
   "cell_type": "code",
   "execution_count": 26,
   "metadata": {},
   "outputs": [
    {
     "data": {
      "text/plain": [
       "(6689, 204)"
      ]
     },
     "execution_count": 26,
     "metadata": {},
     "output_type": "execute_result"
    }
   ],
   "source": [
    "#one hot encoding ESS\n",
    "\n",
    "data_OHE=pd.get_dummies(data_ESS[['ENERGYSTARScore']].astype(object),dummy_na=True)\n",
    "data_ESS.drop(columns=['ENERGYSTARScore'],inplace=True)\n",
    "data_ESS=pd.concat([data_ESS,data_OHE],axis=1)\n",
    "\n",
    "data_ESS_nan_co2=data_ESS[data_ESS['log of TotalGHGEmissions'].isna()]\n",
    "data_ESS_nan_energy=data_ESS[data_ESS['log of SiteEnergyUse(kBtu)'].isna()]\n",
    "\n",
    "data_ESS_nan_co2.drop(columns=log_cibles,inplace=True)\n",
    "data_ESS_nan_energy.drop(columns=log_cibles,inplace=True)\n",
    "\n",
    "data_ESS.dropna(inplace=True)\n",
    "data_ESS.shape"
   ]
  },
  {
   "cell_type": "code",
   "execution_count": 29,
   "metadata": {},
   "outputs": [],
   "source": [
    "X_ESS=data_ESS.drop(columns=log_cibles)\n",
    "Y_ESS=data_ESS[log_cibles]\n",
    "\n",
    "X_train_ESS, X_test_ESS, Y_train_ESS, Y_test_ESS = train_test_split(X_ESS,\n",
    "                                                                    Y_ESS,\n",
    "                                                                    test_size=0.2,\n",
    "                                                                    random_state=42)"
   ]
  },
  {
   "cell_type": "code",
   "execution_count": 30,
   "metadata": {},
   "outputs": [
    {
     "name": "stdout",
     "output_type": "stream",
     "text": [
      "log of TotalGHGEmissions dummy score:  2.0054831309397483\n",
      "log of SiteEnergyUse(kBtu) dummy score:  1.8914459829309422\n"
     ]
    }
   ],
   "source": [
    "from sklearn.dummy import DummyRegressor\n",
    "\n",
    "dummy_scores_ESS=[]\n",
    "\n",
    "for cible in log_cibles:\n",
    "    dummy = DummyRegressor(strategy = 'mean').fit(X_train_ESS, Y_train_ESS[[cible]])\n",
    "    dummy_scores_ESS.append(mean_squared_error(dummy.predict(X_test_ESS), Y_test_ESS[[cible]]))\n",
    "    print(cible+' dummy score: ',mean_squared_error(dummy.predict(X_test_ESS), Y_test_ESS[[cible]]))"
   ]
  },
  {
   "cell_type": "code",
   "execution_count": 19,
   "metadata": {},
   "outputs": [
    {
     "name": "stdout",
     "output_type": "stream",
     "text": [
      "variable: log of TotalGHGEmissions \n",
      "\n",
      "LinearRegression:\n",
      "mse score: 0.45683196581936647\n",
      "\n",
      "\n",
      "RandomForestRegressor:\n",
      "mse score: 0.23234762381738797\n",
      "\n",
      "\n",
      "XGBRegressor:\n",
      "mse score: 0.2772922298858922\n",
      "\n",
      "\n",
      "\n",
      "\n",
      "variable: log of SiteEnergyUse(kBtu) \n",
      "\n",
      "LinearRegression:\n",
      "mse score: 0.482641557579804\n",
      "\n",
      "\n",
      "RandomForestRegressor:\n",
      "mse score: 0.2170192649027919\n",
      "\n",
      "\n",
      "XGBRegressor:\n",
      "mse score: 0.1851622007000969\n",
      "\n",
      "\n",
      "\n",
      "\n"
     ]
    },
    {
     "data": {
      "text/plain": [
       "[RandomForestRegressor(min_samples_leaf=5),\n",
       " XGBRegressor(n_estimators=500, objective='reg:squarederror')]"
      ]
     },
     "execution_count": 19,
     "metadata": {},
     "output_type": "execute_result"
    }
   ],
   "source": [
    "from sklearn.linear_model import LinearRegression\n",
    "from sklearn.ensemble import RandomForestRegressor\n",
    "from sklearn.neighbors import KNeighborsRegressor\n",
    "from xgboost import XGBRegressor\n",
    "\n",
    "i=0\n",
    "fitted_models_and_mse_ESS=[]\n",
    "times=[]\n",
    "MSE=[]\n",
    "\n",
    "for cible in log_cibles:\n",
    "    print('variable:',cible,'\\n')\n",
    "    fitted_models_and_mse_ESS.append([])\n",
    "    \n",
    "    for model, params in zip(models, all_params):\n",
    "        start_time=time.time()\n",
    "        if (model.__class__.__name__=='LinearRegression'):\n",
    "            model.fit(X_train_ESS,Y_train_ESS[[cible]])\n",
    "            \n",
    "            # temps d'inférence (prédiction)\n",
    "            start_time = time.time()\n",
    "            mse=mean_squared_error(model.predict(X_test_ESS),Y_test_ESS[[cible]])/dummy_scores_ESS[i]\n",
    "            elapsed=time.time()-start_time\n",
    "            elapsed/=len(Y_train[[cible]])\n",
    "            \n",
    "            MSE.append(mse)\n",
    "            \n",
    "            print(model.__class__.__name__+':')\n",
    "            print('mse score:',mse)\n",
    "            print('\\n')\n",
    "            \n",
    "            times.append(elapsed)\n",
    "            fitted_models_and_mse_ESS[i].append((model,mse))\n",
    "        else:\n",
    "            grid = GridSearchCV(model,\n",
    "                                param_grid = params,\n",
    "                                verbose=0,\n",
    "                                cv=20)\n",
    "            grid.fit(X_train_ESS, Y_train_ESS[[cible]].values.ravel())\n",
    "            \n",
    "            # temps d'inférence (prédiction)\n",
    "            start_time = time.time()\n",
    "            mse=mean_squared_error(grid.best_estimator_.predict(X_test_ESS),Y_test_ESS[[cible]])/dummy_scores_ESS[i]\n",
    "            elapsed=time.time()-start_time\n",
    "            elapsed/=len(Y_train[[cible]])\n",
    "            \n",
    "            MSE.append(mse)\n",
    "                \n",
    "            print(model.__class__.__name__+':')\n",
    "            print('mse score:',mse)\n",
    "            print('\\n')\n",
    "            \n",
    "            times.append(elapsed)\n",
    "            fitted_models_and_mse_ESS[i].append((grid.best_estimator_,mse))\n",
    "    print('\\n')\n",
    "    i+=1\n",
    "    \n",
    "best_models_ESS=[]\n",
    "for fitted in fitted_models_and_mse_ESS:\n",
    "    best_models_ESS.append(min(fitted, key = lambda t: t[1])[0])\n",
    "    \n",
    "best_models_ESS"
   ]
  },
  {
   "cell_type": "code",
   "execution_count": 20,
   "metadata": {},
   "outputs": [
    {
     "data": {
      "image/png": "[encoded data removed]",
      "text/plain": [
       "<Figure size 1440x720 with 1 Axes>"
      ]
     },
     "metadata": {
      "needs_background": "light"
     },
     "output_type": "display_data"
    },
    {
     "data": {
      "image/png": "[encoded data removed]",
      "text/plain": [
       "<Figure size 1440x720 with 1 Axes>"
      ]
     },
     "metadata": {
      "needs_background": "light"
     },
     "output_type": "display_data"
    }
   ],
   "source": [
    "i=0\n",
    "for cible in log_cibles:\n",
    "    plt.figure(figsize=(20,10))\n",
    "    plt.title('Temps d\\'inférence (en secondes) pour chaque modèle \\n pour la variable '+cible)\n",
    "    plt.xticks(rotation=90)\n",
    "    abscisse=[x for _, x in sorted(zip(times[i:i+len(models)], model_names))]\n",
    "    ordonnee=sorted(times[i:i+len(models)])\n",
    "    sns.barplot(x=abscisse, y=ordonnee)\n",
    "    i+=len(models)"
   ]
  },
  {
   "cell_type": "code",
   "execution_count": 21,
   "metadata": {},
   "outputs": [
    {
     "data": {
      "image/png": "[encoded data removed]",
      "text/plain": [
       "<Figure size 1440x720 with 1 Axes>"
      ]
     },
     "metadata": {
      "needs_background": "light"
     },
     "output_type": "display_data"
    },
    {
     "data": {
      "image/png": "[encoded data removed]",
      "text/plain": [
       "<Figure size 1440x720 with 1 Axes>"
      ]
     },
     "metadata": {
      "needs_background": "light"
     },
     "output_type": "display_data"
    }
   ],
   "source": [
    "i=0\n",
    "for cible in log_cibles:\n",
    "    plt.figure(figsize=(20,10))\n",
    "    plt.title('Score MSE pour chaque modèle \\n pour la variable '+cible)\n",
    "    plt.xticks(rotation=90)\n",
    "    abscisse=[x for _, x in sorted(zip(MSE[i:i+len(models)], model_names))]\n",
    "    ordonnee=sorted(MSE[i:i+len(models)])\n",
    "    sns.barplot(x=abscisse, y=ordonnee)\n",
    "    i+=len(models)"
   ]
  },
  {
   "cell_type": "code",
   "execution_count": 22,
   "metadata": {},
   "outputs": [
    {
     "name": "stdout",
     "output_type": "stream",
     "text": [
      "Test des modèles finaux: \n",
      "\n",
      "variable: log of TotalGHGEmissions \n",
      "\n",
      "modèle: RandomForestRegressor\n",
      "mse: 0.23234762381738797 \n",
      "\n",
      "variable: log of SiteEnergyUse(kBtu) \n",
      "\n",
      "modèle: XGBRegressor\n",
      "mse: 0.1851622007000969 \n",
      "\n"
     ]
    }
   ],
   "source": [
    "i=0\n",
    "print('Test des modèles finaux:','\\n')\n",
    "for cible in log_cibles:\n",
    "    print('variable: '+cible,'\\n')\n",
    "    mse=mean_squared_error(best_models_ESS[i].predict(X_test_ESS),Y_test_ESS[[cible]])/dummy_scores_ESS[i]\n",
    "    print('modèle: '+best_models_ESS[i].__class__.__name__)\n",
    "    print('mse:',mse,'\\n')\n",
    "    i+=1"
   ]
  },
  {
   "cell_type": "markdown",
   "metadata": {},
   "source": [
    "# Prédiction des données manquantes à l'aide des meilleurs modèles"
   ]
  },
  {
   "cell_type": "code",
   "execution_count": 75,
   "metadata": {},
   "outputs": [],
   "source": [
    "model_final_co2=best_models_ESS[0]\n",
    "co2_pred=pd.DataFrame(data=model_final_co2.predict(data_ESS_nan_co2),\n",
    "                      index=data_ESS_nan_co2.index,columns=['prediction of '+co2])\n",
    "co2_pred['prediction of '+co2]=np.exp(co2_pred['prediction of '+co2])-1+min(data[co2].values)"
   ]
  },
  {
   "cell_type": "code",
   "execution_count": 76,
   "metadata": {},
   "outputs": [
    {
     "data": {
      "text/html": [
       "<div>\n",
       "<style scoped>\n",
       "    .dataframe tbody tr th:only-of-type {\n",
       "        vertical-align: middle;\n",
       "    }\n",
       "\n",
       "    .dataframe tbody tr th {\n",
       "        vertical-align: top;\n",
       "    }\n",
       "\n",
       "    .dataframe thead th {\n",
       "        text-align: right;\n",
       "    }\n",
       "</style>\n",
       "<table border=\"1\" class=\"dataframe\">\n",
       "  <thead>\n",
       "    <tr style=\"text-align: right;\">\n",
       "      <th></th>\n",
       "      <th>prediction of TotalGHGEmissions</th>\n",
       "    </tr>\n",
       "    <tr>\n",
       "      <th>OSEBuildingID</th>\n",
       "      <th></th>\n",
       "    </tr>\n",
       "  </thead>\n",
       "  <tbody>\n",
       "    <tr>\n",
       "      <td>24408</td>\n",
       "      <td>197.924</td>\n",
       "    </tr>\n",
       "    <tr>\n",
       "      <td>25451</td>\n",
       "      <td>34.767</td>\n",
       "    </tr>\n",
       "    <tr>\n",
       "      <td>25361</td>\n",
       "      <td>52.471</td>\n",
       "    </tr>\n",
       "    <tr>\n",
       "      <td>23508</td>\n",
       "      <td>66.659</td>\n",
       "    </tr>\n",
       "    <tr>\n",
       "      <td>19798</td>\n",
       "      <td>8.345</td>\n",
       "    </tr>\n",
       "    <tr>\n",
       "      <td>19694</td>\n",
       "      <td>62.761</td>\n",
       "    </tr>\n",
       "    <tr>\n",
       "      <td>87</td>\n",
       "      <td>39.412</td>\n",
       "    </tr>\n",
       "    <tr>\n",
       "      <td>21578</td>\n",
       "      <td>33.725</td>\n",
       "    </tr>\n",
       "    <tr>\n",
       "      <td>21570</td>\n",
       "      <td>43.475</td>\n",
       "    </tr>\n",
       "    <tr>\n",
       "      <td>21548</td>\n",
       "      <td>11.439</td>\n",
       "    </tr>\n",
       "    <tr>\n",
       "      <td>50082</td>\n",
       "      <td>19.032</td>\n",
       "    </tr>\n",
       "  </tbody>\n",
       "</table>\n",
       "</div>"
      ],
      "text/plain": [
       "               prediction of TotalGHGEmissions\n",
       "OSEBuildingID                                 \n",
       "24408                                  197.924\n",
       "25451                                   34.767\n",
       "25361                                   52.471\n",
       "23508                                   66.659\n",
       "19798                                    8.345\n",
       "19694                                   62.761\n",
       "87                                      39.412\n",
       "21578                                   33.725\n",
       "21570                                   43.475\n",
       "21548                                   11.439\n",
       "50082                                   19.032"
      ]
     },
     "execution_count": 76,
     "metadata": {},
     "output_type": "execute_result"
    }
   ],
   "source": [
    "co2_pred"
   ]
  },
  {
   "cell_type": "code",
   "execution_count": 77,
   "metadata": {},
   "outputs": [],
   "source": [
    "model_final_energy=best_models_ESS[1]\n",
    "energy_pred=pd.DataFrame(data=model_final_energy.predict(data_ESS_nan_energy),\n",
    "                         index=data_ESS_nan_energy.index,columns=['prediction of '+energy])\n",
    "energy_pred['prediction of '+energy]=np.exp(energy_pred['prediction of '+energy])-1+min(data[energy].values)"
   ]
  },
  {
   "cell_type": "code",
   "execution_count": 78,
   "metadata": {},
   "outputs": [
    {
     "data": {
      "text/html": [
       "<div>\n",
       "<style scoped>\n",
       "    .dataframe tbody tr th:only-of-type {\n",
       "        vertical-align: middle;\n",
       "    }\n",
       "\n",
       "    .dataframe tbody tr th {\n",
       "        vertical-align: top;\n",
       "    }\n",
       "\n",
       "    .dataframe thead th {\n",
       "        text-align: right;\n",
       "    }\n",
       "</style>\n",
       "<table border=\"1\" class=\"dataframe\">\n",
       "  <thead>\n",
       "    <tr style=\"text-align: right;\">\n",
       "      <th></th>\n",
       "      <th>prediction of SiteEnergyUse(kBtu)</th>\n",
       "    </tr>\n",
       "    <tr>\n",
       "      <th>OSEBuildingID</th>\n",
       "      <th></th>\n",
       "    </tr>\n",
       "  </thead>\n",
       "  <tbody>\n",
       "    <tr>\n",
       "      <td>24408</td>\n",
       "      <td>4333904.000</td>\n",
       "    </tr>\n",
       "    <tr>\n",
       "      <td>25451</td>\n",
       "      <td>6512019.500</td>\n",
       "    </tr>\n",
       "    <tr>\n",
       "      <td>25361</td>\n",
       "      <td>2109633.000</td>\n",
       "    </tr>\n",
       "    <tr>\n",
       "      <td>23508</td>\n",
       "      <td>546.429</td>\n",
       "    </tr>\n",
       "    <tr>\n",
       "      <td>19798</td>\n",
       "      <td>1752.756</td>\n",
       "    </tr>\n",
       "    <tr>\n",
       "      <td>19694</td>\n",
       "      <td>1796634.500</td>\n",
       "    </tr>\n",
       "    <tr>\n",
       "      <td>87</td>\n",
       "      <td>94808.984</td>\n",
       "    </tr>\n",
       "    <tr>\n",
       "      <td>21578</td>\n",
       "      <td>1007898.062</td>\n",
       "    </tr>\n",
       "    <tr>\n",
       "      <td>21570</td>\n",
       "      <td>1421986.750</td>\n",
       "    </tr>\n",
       "    <tr>\n",
       "      <td>21548</td>\n",
       "      <td>2150.327</td>\n",
       "    </tr>\n",
       "  </tbody>\n",
       "</table>\n",
       "</div>"
      ],
      "text/plain": [
       "               prediction of SiteEnergyUse(kBtu)\n",
       "OSEBuildingID                                   \n",
       "24408                                4333904.000\n",
       "25451                                6512019.500\n",
       "25361                                2109633.000\n",
       "23508                                    546.429\n",
       "19798                                   1752.756\n",
       "19694                                1796634.500\n",
       "87                                     94808.984\n",
       "21578                                1007898.062\n",
       "21570                                1421986.750\n",
       "21548                                   2150.327"
      ]
     },
     "execution_count": 78,
     "metadata": {},
     "output_type": "execute_result"
    }
   ],
   "source": [
    "energy_pred"
   ]
  },
  {
   "cell_type": "code",
   "execution_count": null,
   "metadata": {},
   "outputs": [],
   "source": []
  }
 ],
 "metadata": {
  "kernelspec": {
   "display_name": "Python 3",
   "language": "python",
   "name": "python3"
  },
  "language_info": {
   "codemirror_mode": {
    "name": "ipython",
    "version": 3
   },
   "file_extension": ".py",
   "mimetype": "text/x-python",
   "name": "python",
   "nbconvert_exporter": "python",
   "pygments_lexer": "ipython3",
   "version": "3.7.4"
  }
 },
 "nbformat": 4,
 "nbformat_minor": 4
}
